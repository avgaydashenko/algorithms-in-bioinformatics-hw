{
 "cells": [
  {
   "cell_type": "code",
   "execution_count": 1,
   "metadata": {
    "collapsed": true
   },
   "outputs": [],
   "source": [
    "import numpy as np"
   ]
  },
  {
   "cell_type": "code",
   "execution_count": 2,
   "metadata": {
    "collapsed": true
   },
   "outputs": [],
   "source": [
    "def needleman_wunsch(x, y, match=1, mismatch=-1, gap=-1):\n",
    "\n",
    "    weight = np.zeros((len(x) + 1, len(y) + 1), dtype=np.float64)\n",
    "    direction = np.zeros_like(weight, dtype=np.float64)\n",
    "    \n",
    "    weight[:, 0] = np.arange(len(x) + 1) * gap\n",
    "    weight[0] = np.arange(len(y) + 1) * gap\n",
    "    \n",
    "    direction_type = np.array([[0, -1, -1], # diag -- 0\n",
    "                               [0, -1, 0], # vertical -- 1\n",
    "                               [0, 0, -1]], dtype=np.float64) # horizontal -- 2\n",
    "    \n",
    "    direction[1:, 0] = 1\n",
    "    direction[0, 1:] = 2\n",
    "    \n",
    "    for i in range(1, len(x) + 1):\n",
    "        for j in range(1, len(y) + 1):\n",
    "            a = match if x[i-1] == y[j-1] else mismatch\n",
    "            b = weight[i-1, j-1]\n",
    "            direction_type[:, 0] = a + b, weight[i-1, j] + gap, weight[i, j-1] + gap\n",
    "            weight[i, j] = max(np.max(direction_type[:, 0]), 0)\n",
    "            direction[i, j] = np.argmax(direction_type[:, 0])\n",
    "            \n",
    "    x_res, y_res = '', ''\n",
    "    i, j = np.argmax(weight) // weight.shape[1], np.argmax(weight) % weight.shape[1]\n",
    "    while weight[i, j] != 0:\n",
    "        diff_i, diff_j = direction_type[int(direction[int(i), int(j)]), 1:]\n",
    "        i += int(diff_i)\n",
    "        j += int(diff_j)\n",
    "        if diff_i == diff_j:\n",
    "            x_res += x[i]\n",
    "            y_res += y[j]\n",
    "        elif diff_i == -1:\n",
    "            x_res += x[i]\n",
    "            y_res += '-'\n",
    "        else:\n",
    "            x_res += '-'\n",
    "            y_res += y[j]\n",
    "    \n",
    "    return np.max(weight), x_res[::-1], y_res[::-1]"
   ]
  },
  {
   "cell_type": "code",
   "execution_count": 4,
   "metadata": {},
   "outputs": [
    {
     "name": "stdout",
     "output_type": "stream",
     "text": [
      "0.5\n",
      "B\n",
      "B\n"
     ]
    }
   ],
   "source": [
    "w, s1, s2 = needleman_wunsch('b'.upper(),\n",
    "                             'b'.upper(), match=0.5)\n",
    "print(w)\n",
    "print(s1)\n",
    "print(s2)"
   ]
  },
  {
   "cell_type": "code",
   "execution_count": 10,
   "metadata": {},
   "outputs": [
    {
     "name": "stdout",
     "output_type": "stream",
     "text": [
      "13.0\n",
      "CC--CAGTTATGTCAGGGGACACG--A-GCATGCAGA\n",
      "CCGTC-GTT-T-TCA---G-CA-GTTATG--T-CAGA\n"
     ]
    }
   ],
   "source": [
    "w, s1, s2 = needleman_wunsch('tccCAGTTATGTCAGgggacacgagcatgcagagac'.upper(),\n",
    "                             'aattgccgccgtcgttttcagCAGTTATGTCAGatc'.upper(), match=1, gap=-0.5)\n",
    "print(w)\n",
    "print(s1)\n",
    "print(s2)"
   ]
  },
  {
   "cell_type": "code",
   "execution_count": 6,
   "metadata": {},
   "outputs": [
    {
     "name": "stdout",
     "output_type": "stream",
     "text": [
      "22.0\n",
      "BBBBBB----BBCCCCCCCC\n",
      "BBBBBBAAAAAACCCCCCCC\n"
     ]
    }
   ],
   "source": [
    "w, s1, s2 = needleman_wunsch('aaaaaaabbbbbbbbccccccccc'.upper(),\n",
    "                             'bbbbbbbaaaaaacccccccc'.upper(), match=2)\n",
    "print(w)\n",
    "print(s1)\n",
    "print(s2)"
   ]
  },
  {
   "cell_type": "code",
   "execution_count": 7,
   "metadata": {},
   "outputs": [
    {
     "name": "stdout",
     "output_type": "stream",
     "text": [
      "1.5\n",
      "BBB\n",
      "BBB\n"
     ]
    }
   ],
   "source": [
    "w, s1, s2 = needleman_wunsch('babbb'.upper(),\n",
    "                             'bbbb'.upper(), match=0.5)\n",
    "print(w)\n",
    "print(s1)\n",
    "print(s2)"
   ]
  },
  {
   "cell_type": "code",
   "execution_count": null,
   "metadata": {
    "collapsed": true
   },
   "outputs": [],
   "source": []
  }
 ],
 "metadata": {
  "kernelspec": {
   "display_name": "Python 3",
   "language": "python",
   "name": "python3"
  },
  "language_info": {
   "codemirror_mode": {
    "name": "ipython",
    "version": 3
   },
   "file_extension": ".py",
   "mimetype": "text/x-python",
   "name": "python",
   "nbconvert_exporter": "python",
   "pygments_lexer": "ipython3",
   "version": "3.6.1"
  }
 },
 "nbformat": 4,
 "nbformat_minor": 2
}
