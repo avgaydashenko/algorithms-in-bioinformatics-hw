{
 "cells": [
  {
   "cell_type": "code",
   "execution_count": 1,
   "metadata": {
    "collapsed": true
   },
   "outputs": [],
   "source": [
    "import numpy as np"
   ]
  },
  {
   "cell_type": "code",
   "execution_count": 19,
   "metadata": {
    "collapsed": true
   },
   "outputs": [],
   "source": [
    "Π = np.array([0.5, 0.5])\n",
    "A = np.array([\n",
    "    [1, 0],\n",
    "    [0, 1]\n",
    "])\n",
    "B = np.array([\n",
    "    [0.9, 0.1],\n",
    "    [0.2, 0.8]\n",
    "])"
   ]
  },
  {
   "cell_type": "code",
   "execution_count": 22,
   "metadata": {
    "collapsed": true
   },
   "outputs": [],
   "source": [
    "Π = np.array([0.5, 0.5])\n",
    "A = np.array([\n",
    "    [0.5, 0.5],\n",
    "    [0.5, 0.5]\n",
    "])\n",
    "B = np.array([\n",
    "    [0.9, 0.1],\n",
    "    [0.2, 0.8]\n",
    "])"
   ]
  },
  {
   "cell_type": "code",
   "execution_count": 4,
   "metadata": {
    "collapsed": true
   },
   "outputs": [],
   "source": [
    "def viterbi(Π, A, B, open_states):\n",
    "    states_num = len(Π)\n",
    "    steps_num = len(open_states)\n",
    "    δ = np.empty((states_num, steps_num))\n",
    "    Ψ = np.empty((states_num, steps_num - 1), dtype=int)\n",
    "    δ[:, 0] = Π * B[:, open_states[0]]\n",
    "    for step in range(1, steps_num):\n",
    "        δ[:, step] = np.max(δ[:, step - 1].reshape((-1, 1)) * A * B[:, open_states[step]], axis=0)\n",
    "        Ψ[:, step - 1] = np.argmax(δ[:, step - 1].reshape((-1, 1)) * A * B[:, open_states[step]], axis=0)\n",
    "\n",
    "    result = [np.argmax(δ[:, -1])]\n",
    "    for step in range(steps_num - 2, -1, -1):\n",
    "        result.append(Ψ[result[-1], step])\n",
    "        \n",
    "    return result[::-1]"
   ]
  },
  {
   "cell_type": "code",
   "execution_count": 18,
   "metadata": {},
   "outputs": [
    {
     "data": {
      "text/plain": [
       "[1, 1, 1, 1, 1, 1, 1, 1, 0, 0, 0, 0, 0]"
      ]
     },
     "execution_count": 18,
     "metadata": {},
     "output_type": "execute_result"
    }
   ],
   "source": [
    "viterbi(Π, A, B, [1,1,1,1,0,1,0,1,0,0,0,0,0])"
   ]
  },
  {
   "cell_type": "code",
   "execution_count": 6,
   "metadata": {
    "collapsed": true
   },
   "outputs": [],
   "source": [
    "def fb(Π, A, B, open_states):\n",
    "    states_num = len(Π)\n",
    "    steps_num = len(open_states)\n",
    "    α = np.empty((states_num, steps_num))\n",
    "    α[:, 0] = Π * B[:, open_states[0]]\n",
    "    \n",
    "    for step in range(1, steps_num):\n",
    "        α[:, step] = np.sum(α[:, step - 1].reshape((-1, 1)) * A * B[:, open_states[step]], axis=0)\n",
    "\n",
    "    β = np.empty((states_num, steps_num))\n",
    "    β[:, -1] = 1\n",
    "    for step in range(steps_num - 2, -1, -1):\n",
    "        β[:, step] = np.sum(β[:, step + 1] * A * B[:, open_states[step + 1]], axis=1)\n",
    "    \n",
    "    return α * β / np.sum(α[:, -1])"
   ]
  },
  {
   "cell_type": "code",
   "execution_count": 23,
   "metadata": {},
   "outputs": [
    {
     "data": {
      "text/plain": [
       "array([[ 0.11111111,  0.11111111,  0.11111111,  0.11111111,  0.81818182,\n",
       "         0.11111111,  0.81818182,  0.11111111,  0.81818182,  0.81818182,\n",
       "         0.81818182,  0.81818182,  0.81818182],\n",
       "       [ 0.88888889,  0.88888889,  0.88888889,  0.88888889,  0.18181818,\n",
       "         0.88888889,  0.18181818,  0.88888889,  0.18181818,  0.18181818,\n",
       "         0.18181818,  0.18181818,  0.18181818]])"
      ]
     },
     "execution_count": 23,
     "metadata": {},
     "output_type": "execute_result"
    }
   ],
   "source": [
    "fb(Π, A, B, [1,1,1,1,0,1,0,1,0,0,0,0,0])"
   ]
  },
  {
   "cell_type": "code",
   "execution_count": null,
   "metadata": {
    "collapsed": true
   },
   "outputs": [],
   "source": []
  }
 ],
 "metadata": {
  "kernelspec": {
   "display_name": "Python 3",
   "language": "python",
   "name": "python3"
  },
  "language_info": {
   "codemirror_mode": {
    "name": "ipython",
    "version": 3
   },
   "file_extension": ".py",
   "mimetype": "text/x-python",
   "name": "python",
   "nbconvert_exporter": "python",
   "pygments_lexer": "ipython3",
   "version": "3.6.1"
  }
 },
 "nbformat": 4,
 "nbformat_minor": 2
}
