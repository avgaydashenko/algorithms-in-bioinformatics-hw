{
 "cells": [
  {
   "cell_type": "code",
   "execution_count": 2,
   "metadata": {
    "collapsed": true
   },
   "outputs": [],
   "source": [
    "import numpy as np"
   ]
  },
  {
   "cell_type": "code",
   "execution_count": 44,
   "metadata": {},
   "outputs": [],
   "source": [
    "def state_to_ind(state):\n",
    "    if state == 'AA':\n",
    "        return 0\n",
    "    if state == 'AG':\n",
    "        return 1\n",
    "    if state == 'GA':\n",
    "        return 2\n",
    "    if state == 'GG':\n",
    "        return 3\n",
    "\n",
    "def fb(Π, A, B, open_states):\n",
    "    states_num = len(Π)\n",
    "    n, m = open_states.shape\n",
    "    \n",
    "    α = np.zeros((states_num, n, m))\n",
    "    \n",
    "    for j in range(states_num):\n",
    "        α[j, 0, 0] = Π[j] * B[j, state_to_ind(open_states[0, 0])]\n",
    "        \n",
    "    for t in range(1, n):\n",
    "        for j in range(states_num):\n",
    "            α[j, t, 0] = α[1, t - 1, 0] * A[1, j] * B[j, state_to_ind(open_states[t, 0])]\n",
    "\n",
    "#         for j in range(states_num):\n",
    "#             α[j, t, 0] = 0\n",
    "#             for i in range(states_num):\n",
    "#                 α[j, t, 0] += α[i, t - 1, 0] * A[i, j] * B[j, state_to_ind(open_states[t, 0])]\n",
    "\n",
    "    for k in range(1, m):\n",
    "        for j in range(states_num):\n",
    "            α[j, 0, k] = α[2, 0, k - 1] * A[2, j] * B[j, state_to_ind(open_states[0, k])]\n",
    "        \n",
    "#         for j in range(states_num):\n",
    "#             α[j, 0, k] = 0\n",
    "#             for i in range(states_num):\n",
    "#                 α[j, 0, k] += α[i, 0, k - 1] * A[i, j] * B[j, state_to_ind(open_states[0, k])]\n",
    "                \n",
    "#     for j in range(states_num):\n",
    "#         print(α[j])\n",
    "#         print()\n",
    "    \n",
    "    for t in range(1, n):\n",
    "        for k in range(1, m):\n",
    "            for j in range(states_num):\n",
    "                α[j, t, k] = 0\n",
    "                α[j, t, k] += α[0, t - 1, k - 1] * A[0, j] * B[j, state_to_ind(open_states[t, k])]\n",
    "                α[j, t, k] += α[1, t - 1, k] * A[1, j] * B[j, state_to_ind(open_states[t, k])]\n",
    "                α[j, t, k] += α[2, t, k - 1] * A[2, j] * B[j, state_to_ind(open_states[t, k])]\n",
    "\n",
    "    β = np.zeros((states_num, n, m))\n",
    "    β[:, -1, -1] = 1\n",
    "    \n",
    "    for t in range(n - 2, -1, -1):\n",
    "        for i in range(states_num):\n",
    "            β[i, t, -1] = β[1, t + 1, -1] * A[i, 1] * B[1, state_to_ind(open_states[t + 1, -1])]\n",
    "        \n",
    "#         for i in range(states_num):\n",
    "#             β[j, t, -1] = 0\n",
    "#             for j in range(states_num):\n",
    "#                 β[j, t, -1] += β[j, t + 1, -1] * A[i, j] * B[j, state_to_ind(open_states[t + 1, -1])]\n",
    "\n",
    "    for k in range(m - 2, -1, -1):\n",
    "        for i in range(states_num):\n",
    "            β[i, -1, k] += β[2, -1, k + 1] * A[i, 2] * B[2, state_to_ind(open_states[-1, k + 1])]\n",
    "        \n",
    "#         for i in range(states_num):\n",
    "#             β[j, -1, k] = 0\n",
    "#             for j in range(states_num):\n",
    "#                 β[j, -1, k] += β[j, -1, k + 1] * A[i, j] * B[j, state_to_ind(open_states[-1, k + 1])]\n",
    "    \n",
    "    for t in range(n - 2, -1, -1):\n",
    "        for k in range(m - 2, -1, -1):\n",
    "            for i in range(states_num):\n",
    "                β[i, t, k] = 0\n",
    "                β[i, t, k] += β[0, t + 1, k + 1] * A[i, 0] * B[0, state_to_ind(open_states[t + 1, k + 1])]\n",
    "                β[i, t, k] += β[1, t + 1, k] * A[i, 1] * B[1, state_to_ind(open_states[t + 1, k])]\n",
    "                β[i, t, k] += β[2, t, k + 1] * A[i, 2] * B[2, state_to_ind(open_states[t, k + 1])]\n",
    "\n",
    "    result = α * β / np.sum(α[:, -1, -1])\n",
    "    \n",
    "#     print()\n",
    "#     for j in range(states_num):\n",
    "#         print(result[j])\n",
    "        \n",
    "    return result[0]"
   ]
  },
  {
   "cell_type": "code",
   "execution_count": 53,
   "metadata": {},
   "outputs": [],
   "source": [
    "δ = 0.1\n",
    "ρ = 0.05\n",
    "ϵ = 0.15\n",
    "\n",
    "#                 M      X  Y\n",
    "Π = np.array([1 - 2 * δ, δ, δ])\n",
    "\n",
    "A = np.array([\n",
    "    #  M        X  Y\n",
    "    [1 - 2 * δ, δ, δ], # M\n",
    "    [1 - ϵ - ρ, ϵ, ρ], # X\n",
    "    [1 - ϵ - ρ, ρ, ϵ]  # Y\n",
    "])\n",
    "\n",
    "B = np.array([\n",
    "    # AA  AG   GA   GG\n",
    "    [0.49, 0.01, 0.01, 0.49], # M\n",
    "    [0.25, 0.25, 0.25, 0.25], # X\n",
    "    [0.25, 0.25, 0.25, 0.25] # Y\n",
    "])"
   ]
  },
  {
   "cell_type": "code",
   "execution_count": 54,
   "metadata": {
    "collapsed": true
   },
   "outputs": [],
   "source": [
    "open_states = lambda s1, s2: np.array([[ch1 + ch2 for ch2 in s2] for ch1 in s1])"
   ]
  },
  {
   "cell_type": "code",
   "execution_count": 55,
   "metadata": {},
   "outputs": [
    {
     "data": {
      "text/plain": [
       "array([[ 15,   0,   0,   0,   0,   0],\n",
       "       [  7,   7,   0,   0,   0,   0],\n",
       "       [  1,  13,   0,   0,   0,   0],\n",
       "       [106,   0,  16,   0,   0,   0],\n",
       "       [  0, 111,   0,  11,   0,   0],\n",
       "       [  0,   0, 117,   0,   5,   0],\n",
       "       [  0,   0,   0, 121,   0,   0],\n",
       "       [  0,   0,   0,   0,  84,   1],\n",
       "       [  0,   0,   0,   0,  44,  43],\n",
       "       [  0,   0,   0,   0,   0,  88]])"
      ]
     },
     "execution_count": 55,
     "metadata": {},
     "output_type": "execute_result"
    }
   ],
   "source": [
    "(fb(Π, A, B, open_states('AAAGAGAGGG', 'GAGAGG')) * 100).astype(int)"
   ]
  },
  {
   "cell_type": "code",
   "execution_count": null,
   "metadata": {
    "collapsed": true
   },
   "outputs": [],
   "source": []
  }
 ],
 "metadata": {
  "kernelspec": {
   "display_name": "Python 3",
   "language": "python",
   "name": "python3"
  },
  "language_info": {
   "codemirror_mode": {
    "name": "ipython",
    "version": 3
   },
   "file_extension": ".py",
   "mimetype": "text/x-python",
   "name": "python",
   "nbconvert_exporter": "python",
   "pygments_lexer": "ipython3",
   "version": "3.6.1"
  }
 },
 "nbformat": 4,
 "nbformat_minor": 2
}
