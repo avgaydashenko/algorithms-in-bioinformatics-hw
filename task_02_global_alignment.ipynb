{
 "cells": [
  {
   "cell_type": "code",
   "execution_count": 1,
   "metadata": {
    "collapsed": true
   },
   "outputs": [],
   "source": [
    "import numpy as np"
   ]
  },
  {
   "cell_type": "code",
   "execution_count": 58,
   "metadata": {},
   "outputs": [],
   "source": [
    "def needleman_wunsch(x, y, match=1, mismatch=-1, gap=-1):\n",
    "\n",
    "    weight = np.zeros((len(x) + 1, len(y) + 1), dtype=int)\n",
    "    direction = np.zeros_like(weight, dtype=int)\n",
    "    \n",
    "    weight[:, 0] = np.arange(len(x) + 1) * gap\n",
    "    weight[0] = np.arange(len(y) + 1) * gap\n",
    "    \n",
    "    direction_type = np.array([[0, -1, -1], # diag -- 0\n",
    "                               [0, -1, 0], # vertical -- 1\n",
    "                               [0, 0, -1]]) # horizontal -- 2\n",
    "    \n",
    "    direction[1:, 0] = 1\n",
    "    direction[0, 1:] = 2\n",
    "    \n",
    "    for i in range(1, len(x) + 1):\n",
    "        for j in range(1, len(y) + 1):\n",
    "            direction_type[0, 0] = weight[i-1, j-1] + (match if x[i-1] == y[j-1] else mismatch)\n",
    "            direction_type[1, 0] = weight[i-1, j] + gap\n",
    "            direction_type[2, 0] = weight[i, j-1] + gap\n",
    "#             print(direction_type)\n",
    "            weight[i, j] = np.max(direction_type[:, 0])\n",
    "            direction[i, j] = np.argmax(direction_type[:, 0])\n",
    "            \n",
    "#             print(weight)\n",
    "    \n",
    "    x_res, y_res, i, j = '', '', len(x), len(y)\n",
    "    while i != 0 or j != 0:\n",
    "        diff_i, diff_j = direction_type[direction[i, j], 1:]\n",
    "        i += diff_i\n",
    "        j += diff_j\n",
    "        if diff_i == diff_j:\n",
    "            x_res += x[i]\n",
    "            y_res += y[j]\n",
    "        elif diff_i == -1:\n",
    "            x_res += x[i]\n",
    "            y_res += '-'\n",
    "        else:\n",
    "            x_res += '-'\n",
    "            y_res += y[j]\n",
    "    \n",
    "    return weight[-1, -1], x_res[::-1], y_res[::-1]"
   ]
  },
  {
   "cell_type": "code",
   "execution_count": 59,
   "metadata": {},
   "outputs": [
    {
     "data": {
      "text/plain": [
       "(-1, 'a', 'b')"
      ]
     },
     "execution_count": 59,
     "metadata": {},
     "output_type": "execute_result"
    }
   ],
   "source": [
    "needleman_wunsch('a', 'b')"
   ]
  },
  {
   "cell_type": "code",
   "execution_count": 60,
   "metadata": {},
   "outputs": [
    {
     "data": {
      "text/plain": [
       "(-2, '-a', 'b-')"
      ]
     },
     "execution_count": 60,
     "metadata": {},
     "output_type": "execute_result"
    }
   ],
   "source": [
    "needleman_wunsch('a', 'b', mismatch=-3)"
   ]
  },
  {
   "cell_type": "code",
   "execution_count": 61,
   "metadata": {},
   "outputs": [
    {
     "data": {
      "text/plain": [
       "(0, '-a', 'b-')"
      ]
     },
     "execution_count": 61,
     "metadata": {},
     "output_type": "execute_result"
    }
   ],
   "source": [
    "needleman_wunsch('a', 'b', gap=0)"
   ]
  },
  {
   "cell_type": "code",
   "execution_count": 62,
   "metadata": {},
   "outputs": [
    {
     "data": {
      "text/plain": [
       "(-2, 'aa', '-b')"
      ]
     },
     "execution_count": 62,
     "metadata": {},
     "output_type": "execute_result"
    }
   ],
   "source": [
    "needleman_wunsch('aa', 'b')"
   ]
  },
  {
   "cell_type": "code",
   "execution_count": 66,
   "metadata": {},
   "outputs": [
    {
     "data": {
      "text/plain": [
       "(-5, '-aaaa', 'b----')"
      ]
     },
     "execution_count": 66,
     "metadata": {},
     "output_type": "execute_result"
    }
   ],
   "source": [
    "needleman_wunsch('aaaa', 'b', mismatch=-3)"
   ]
  },
  {
   "cell_type": "code",
   "execution_count": null,
   "metadata": {
    "collapsed": true
   },
   "outputs": [],
   "source": []
  }
 ],
 "metadata": {
  "kernelspec": {
   "display_name": "Python 3",
   "language": "python",
   "name": "python3"
  },
  "language_info": {
   "codemirror_mode": {
    "name": "ipython",
    "version": 3
   },
   "file_extension": ".py",
   "mimetype": "text/x-python",
   "name": "python",
   "nbconvert_exporter": "python",
   "pygments_lexer": "ipython3",
   "version": "3.6.1"
  }
 },
 "nbformat": 4,
 "nbformat_minor": 2
}
