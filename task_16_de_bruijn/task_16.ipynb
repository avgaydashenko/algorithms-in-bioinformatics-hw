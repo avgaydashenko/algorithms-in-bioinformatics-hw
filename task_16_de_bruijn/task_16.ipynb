{
 "cells": [
  {
   "cell_type": "code",
   "execution_count": 1,
   "metadata": {},
   "outputs": [],
   "source": [
    "import networkx as nx\n",
    "import matplotlib.pyplot as plt\n",
    "# import matplotlib.image as mpimg\n",
    "\n",
    "from networkx.drawing.nx_agraph import write_dot\n",
    "from itertools import product\n",
    "from pylab import rcParams\n",
    "\n",
    "%matplotlib inline\n",
    "\n",
    "rcParams['figure.figsize'] = 15, 10"
   ]
  },
  {
   "cell_type": "code",
   "execution_count": 2,
   "metadata": {},
   "outputs": [],
   "source": [
    "def make_graph(n):\n",
    "    G = nx.DiGraph()\n",
    "\n",
    "    for i in product([0, 1], repeat=n-1):\n",
    "        G.add_node(i)\n",
    "\n",
    "    for i in G.nodes():\n",
    "        G.add_edge(i, tuple(list(i[1:]) + [0]))\n",
    "        G.add_edge(i, tuple(list(i[1:]) + [1]))\n",
    "        \n",
    "    attrs = {}\n",
    "    order = []\n",
    "    for i, (u, v) in enumerate(nx.eulerian_circuit(G)):\n",
    "        attrs[(u, v)] = {'label': i + 1}\n",
    "        order.append(tuple(list(u) + [v[-1]]))\n",
    "        \n",
    "    result = list(order[0])\n",
    "    for row in order[1:]:\n",
    "        result.append(row[-1])\n",
    "        \n",
    "    nx.set_edge_attributes(G, attrs)\n",
    "    \n",
    "    write_dot(G,'graph.dot')\n",
    "    ! dot -Tpng graph.dot > graph.png\n",
    "    \n",
    "    return ''.join(str(ch) for ch in result)"
   ]
  },
  {
   "cell_type": "code",
   "execution_count": 7,
   "metadata": {},
   "outputs": [
    {
     "name": "stdout",
     "output_type": "stream",
     "text": [
      "01100\n"
     ]
    }
   ],
   "source": [
    "n = 2\n",
    "\n",
    "result = make_graph(n)\n",
    "print(result)\n",
    "\n",
    "for i in product([0, 1], repeat=n):\n",
    "    assert ''.join(str(ch) for ch in i) in result, i"
   ]
  },
  {
   "cell_type": "code",
   "execution_count": null,
   "metadata": {},
   "outputs": [],
   "source": []
  }
 ],
 "metadata": {
  "kernelspec": {
   "display_name": "Python 3",
   "language": "python",
   "name": "python3"
  },
  "language_info": {
   "codemirror_mode": {
    "name": "ipython",
    "version": 3
   },
   "file_extension": ".py",
   "mimetype": "text/x-python",
   "name": "python",
   "nbconvert_exporter": "python",
   "pygments_lexer": "ipython3",
   "version": "3.6.3"
  }
 },
 "nbformat": 4,
 "nbformat_minor": 2
}
