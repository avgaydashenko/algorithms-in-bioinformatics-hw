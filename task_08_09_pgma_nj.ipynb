{
 "cells": [
  {
   "cell_type": "code",
   "execution_count": 1,
   "metadata": {
    "collapsed": true
   },
   "outputs": [],
   "source": [
    "import numpy as np"
   ]
  },
  {
   "cell_type": "code",
   "execution_count": 125,
   "metadata": {
    "collapsed": true
   },
   "outputs": [],
   "source": [
    "def unite_neighbors(D, weight):\n",
    "    min_dist = np.inf\n",
    "    for v1 in D:\n",
    "        for v2 in D[v1]:\n",
    "            if D[v1][v2] < min_dist:\n",
    "                x, y = v1, v2\n",
    "                min_dist = D[x][y]\n",
    "    x, y = min(x, y), max(x, y)\n",
    "    new_v = x + y\n",
    "    x_neighbors = D.pop(x) if x in D else {}\n",
    "    y_neighbors = D.pop(y) if y in D else {}\n",
    "    \n",
    "    to_remove = []\n",
    "    for v1 in D:\n",
    "        for v2 in D[v1]:\n",
    "            if v2 == x:\n",
    "                x_neighbors[v1] = D[v1][v2]\n",
    "                to_remove.append((v1, v2))\n",
    "            elif v2 == y:\n",
    "                y_neighbors[v1] = D[v1][v2]\n",
    "                to_remove.append((v1, v2))\n",
    "                \n",
    "    for v1, v2 in to_remove:\n",
    "        D[v1].pop(v2)\n",
    "\n",
    "    curr_keys = list(D.keys())\n",
    "    D[new_v] = {}\n",
    "    \n",
    "    for v in curr_keys:\n",
    "        if weight:\n",
    "            D[new_v][v] = (x_neighbors[v] + y_neighbors[v]) / 2\n",
    "        else:\n",
    "            D[new_v][v] = (x_neighbors[v] * len(x) + y_neighbors[v] * len(y)) / (len(x) + len(y))\n",
    "    \n",
    "    return x, y, min_dist / 2"
   ]
  },
  {
   "cell_type": "code",
   "execution_count": 126,
   "metadata": {
    "collapsed": true
   },
   "outputs": [],
   "source": [
    "def pgma(D, weight):\n",
    "    nwck = {}\n",
    "    offset = {}\n",
    "    while len(D) > 1:\n",
    "        x, y, dist = unite_neighbors(D, weight)\n",
    "        if x not in offset:\n",
    "            offset[x] = 0\n",
    "        if y not in offset:\n",
    "            offset[y] = 0\n",
    "        nwck[x+y] = '({x}:{dx}, {y}:{dy})'.format(x=nwck[x] if x in nwck else x, y=nwck[y] if y in nwck else y,\n",
    "                                                  dx=dist - offset[x], dy=dist - offset[y])\n",
    "        offset[x+y] = dist\n",
    "        \n",
    "    return nwck[list(D.keys())[0]]"
   ]
  },
  {
   "cell_type": "code",
   "execution_count": 122,
   "metadata": {
    "collapsed": true
   },
   "outputs": [],
   "source": [
    "D = {\n",
    "    'A': {'B': 5, 'C': 4, 'D': 7, 'E': 6, 'F': 8},\n",
    "    'B': {'C': 7, 'D': 10, 'E': 9, 'F': 11},\n",
    "    'C': {'D': 7, 'E': 6, 'F': 8},\n",
    "    'D': {'E': 5, 'F': 9},\n",
    "    'E': {'F': 8}\n",
    "}"
   ]
  },
  {
   "cell_type": "code",
   "execution_count": 129,
   "metadata": {
    "collapsed": true
   },
   "outputs": [],
   "source": [
    "D = {\n",
    "    'K': {'L': 16, 'M': 16, 'N': 10},\n",
    "    'L': {'M': 8, 'N': 8},\n",
    "    'M': {'N': 4}\n",
    "}"
   ]
  },
  {
   "cell_type": "code",
   "execution_count": 130,
   "metadata": {},
   "outputs": [
    {
     "data": {
      "text/plain": [
       "'(K:7.0, (L:4.0, (M:2.0, N:2.0):2.0):3.0)'"
      ]
     },
     "execution_count": 130,
     "metadata": {},
     "output_type": "execute_result"
    }
   ],
   "source": [
    "pgma(D, False)"
   ]
  },
  {
   "cell_type": "code",
   "execution_count": 173,
   "metadata": {
    "collapsed": true
   },
   "outputs": [],
   "source": [
    "def get_vert(D):\n",
    "    vert = set([])\n",
    "    for v1 in D:\n",
    "        vert.add(v1)\n",
    "        for v2 in D[v1]:\n",
    "            vert.add(v2)\n",
    "    return list(vert)\n",
    "\n",
    "def M(D, a, b):\n",
    "    dist = 0\n",
    "    if a in D:\n",
    "        for v in D[a]:\n",
    "            if v != b:\n",
    "                dist += D[a][v]\n",
    "    for v in D:\n",
    "        if v != b and a in D[v]:\n",
    "            dist += D[v][a]\n",
    "        \n",
    "    return dist / (len(get_vert(D)) - 2)\n",
    "\n",
    "def join_neighbors(D):\n",
    "    vert = get_vert(D)\n",
    "    min_dist = np.inf\n",
    "    for i, v1 in enumerate(vert[:-1]):\n",
    "        for v2 in vert[i+1:]:\n",
    "            dist = (D[v1][v2] if v1 in D and v2 in D[v1] else D[v2][v1]) - M(D, v1, v2) - M(D, v2, v1)\n",
    "            if dist < min_dist:\n",
    "                x, y = v1, v2\n",
    "                min_dist = dist\n",
    "                \n",
    "    x, y = min(x, y), max(x, y)\n",
    "    dist = D[x][y] if x in D and y in D[x] else D[y][x]\n",
    "    x_dist = (dist + M(D, x, y) - M(D, y, x)) / 2\n",
    "    y_dist = (dist + M(D, y, x) - M(D, x, y)) / 2\n",
    "    \n",
    "    new_v = x + y\n",
    "    x_neighbors = D.pop(x) if x in D else {}\n",
    "    y_neighbors = D.pop(y) if y in D else {}\n",
    "    \n",
    "    to_remove = []\n",
    "    for v1 in D:\n",
    "        for v2 in D[v1]:\n",
    "            if v2 == x:\n",
    "                x_neighbors[v1] = D[v1][v2]\n",
    "                to_remove.append((v1, v2))\n",
    "            elif v2 == y:\n",
    "                y_neighbors[v1] = D[v1][v2]\n",
    "                to_remove.append((v1, v2))\n",
    "                \n",
    "    for v1, v2 in to_remove:\n",
    "        D[v1].pop(v2)\n",
    "\n",
    "    curr_keys = list(D.keys())\n",
    "    D[new_v] = {}\n",
    "    \n",
    "    for v in curr_keys:\n",
    "        D[new_v][v] = (x_neighbors[v] + y_neighbors[v] - dist) / 2\n",
    "    \n",
    "    print(D)\n",
    "    \n",
    "    return x, y, x_dist, y_dist"
   ]
  },
  {
   "cell_type": "code",
   "execution_count": 177,
   "metadata": {
    "collapsed": true
   },
   "outputs": [],
   "source": [
    "def nj(D):\n",
    "    nwck = {}\n",
    "    offset = {}\n",
    "    while len(get_vert(D)) > 2:\n",
    "        x, y, x_dist, y_dist = join_neighbors(D)\n",
    "        print('new cluster: {cl}, D({cl}, {x})={xd}, D({cl}, {y})={yd}\\n'.format(cl=x+y, x=x, y=y, xd=x_dist,\n",
    "                                                                               yd=y_dist))"
   ]
  },
  {
   "cell_type": "code",
   "execution_count": 178,
   "metadata": {
    "collapsed": true
   },
   "outputs": [],
   "source": [
    "D = {\n",
    "    'K': {'L': 16, 'M': 16, 'N': 10},\n",
    "    'L': {'M': 8, 'N': 8},\n",
    "    'M': {'N': 4}\n",
    "}"
   ]
  },
  {
   "cell_type": "code",
   "execution_count": 179,
   "metadata": {},
   "outputs": [
    {
     "name": "stdout",
     "output_type": "stream",
     "text": [
      "{'K': {'L': 16}, 'L': {}, 'MN': {'K': 11.0, 'L': 6.0}}\n",
      "new cluster: MN, D(MN, M)=3.5, D(MN, N)=0.5\n",
      "\n",
      "{'K': {}, 'LMN': {'K': 10.5}}\n",
      "new cluster: LMN, D(LMN, L)=5.5, D(LMN, MN)=0.5\n",
      "\n"
     ]
    }
   ],
   "source": [
    "nj(D)"
   ]
  },
  {
   "cell_type": "code",
   "execution_count": null,
   "metadata": {
    "collapsed": true
   },
   "outputs": [],
   "source": []
  }
 ],
 "metadata": {
  "kernelspec": {
   "display_name": "Python 3",
   "language": "python",
   "name": "python3"
  },
  "language_info": {
   "codemirror_mode": {
    "name": "ipython",
    "version": 3
   },
   "file_extension": ".py",
   "mimetype": "text/x-python",
   "name": "python",
   "nbconvert_exporter": "python",
   "pygments_lexer": "ipython3",
   "version": "3.6.1"
  }
 },
 "nbformat": 4,
 "nbformat_minor": 2
}
