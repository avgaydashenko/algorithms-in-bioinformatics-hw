{
 "cells": [
  {
   "cell_type": "code",
   "execution_count": 1,
   "metadata": {
    "collapsed": true
   },
   "outputs": [],
   "source": [
    "import numpy as np"
   ]
  },
  {
   "cell_type": "code",
   "execution_count": 2,
   "metadata": {
    "collapsed": true
   },
   "outputs": [],
   "source": [
    "def needleman_wunsch(x, y, match_matrix, association, gap=-1):\n",
    "\n",
    "    weight = np.zeros((len(x) + 1, len(y) + 1), dtype=int)\n",
    "    direction = np.zeros_like(weight, dtype=int)\n",
    "    \n",
    "    weight[:, 0] = np.arange(len(x) + 1) * gap\n",
    "    weight[0] = np.arange(len(y) + 1) * gap\n",
    "    \n",
    "    direction_type = np.array([[0, -1, -1], # diag -- 0\n",
    "                               [0, -1, 0], # vertical -- 1\n",
    "                               [0, 0, -1]]) # horizontal -- 2\n",
    "    \n",
    "    direction[1:, 0] = 1\n",
    "    direction[0, 1:] = 2\n",
    "    \n",
    "    for i in range(1, len(x) + 1):\n",
    "        for j in range(1, len(y) + 1):\n",
    "            direction_type[0, 0] = weight[i-1, j-1] + match_matrix[association[x[i-1]], association[y[j-1]]]\n",
    "            direction_type[1, 0] = weight[i-1, j] + gap\n",
    "            direction_type[2, 0] = weight[i, j-1] + gap\n",
    "            weight[i, j] = np.max(direction_type[:, 0])\n",
    "            direction[i, j] = np.argmax(direction_type[:, 0])\n",
    "    \n",
    "    x_res, y_res, i, j = '', '', len(x), len(y)\n",
    "    while i != 0 or j != 0:\n",
    "        diff_i, diff_j = direction_type[direction[i, j], 1:]\n",
    "        i += diff_i\n",
    "        j += diff_j\n",
    "        if diff_i == diff_j:\n",
    "            x_res += x[i]\n",
    "            y_res += y[j]\n",
    "        elif diff_i == -1:\n",
    "            x_res += x[i]\n",
    "            y_res += '-'\n",
    "        else:\n",
    "            x_res += '-'\n",
    "            y_res += y[j]\n",
    "    \n",
    "    return weight[-1, -1], x_res[::-1], y_res[::-1]"
   ]
  },
  {
   "cell_type": "code",
   "execution_count": 11,
   "metadata": {
    "collapsed": true
   },
   "outputs": [],
   "source": [
    "mm = np.array([[5, -2, -1, -1],\n",
    "               [-2, 7, -1, -3],\n",
    "               [-1, -1, 7, -100],\n",
    "               [-1, 3, -100, 6]])\n",
    "\n",
    "a = {'a': 0, 'b': 1, 'c': 2, 'd': 3}"
   ]
  },
  {
   "cell_type": "code",
   "execution_count": 12,
   "metadata": {},
   "outputs": [],
   "source": [
    "w, s1, s2 = needleman_wunsch('acbabcbacbabcbabcbacb', 'acbabcbabacbabcaddddd', mm, a, gap=-3)"
   ]
  },
  {
   "cell_type": "code",
   "execution_count": 13,
   "metadata": {},
   "outputs": [
    {
     "data": {
      "text/plain": [
       "'acbabcbacbabcbabcba----cb'"
      ]
     },
     "execution_count": 13,
     "metadata": {},
     "output_type": "execute_result"
    }
   ],
   "source": [
    "s1"
   ]
  },
  {
   "cell_type": "code",
   "execution_count": 14,
   "metadata": {},
   "outputs": [
    {
     "data": {
      "text/plain": [
       "'acbabcba-ba-cbabc-adddd-d'"
      ]
     },
     "execution_count": 14,
     "metadata": {},
     "output_type": "execute_result"
    }
   ],
   "source": [
    "s2"
   ]
  },
  {
   "cell_type": "code",
   "execution_count": null,
   "metadata": {
    "collapsed": true
   },
   "outputs": [],
   "source": []
  }
 ],
 "metadata": {
  "kernelspec": {
   "display_name": "Python 3",
   "language": "python",
   "name": "python3"
  },
  "language_info": {
   "codemirror_mode": {
    "name": "ipython",
    "version": 3
   },
   "file_extension": ".py",
   "mimetype": "text/x-python",
   "name": "python",
   "nbconvert_exporter": "python",
   "pygments_lexer": "ipython3",
   "version": "3.6.1"
  }
 },
 "nbformat": 4,
 "nbformat_minor": 2
}
