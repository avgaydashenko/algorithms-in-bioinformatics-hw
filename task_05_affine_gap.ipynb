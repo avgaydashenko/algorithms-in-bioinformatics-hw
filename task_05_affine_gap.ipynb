{
 "cells": [
  {
   "cell_type": "code",
   "execution_count": 1,
   "metadata": {
    "collapsed": true
   },
   "outputs": [],
   "source": [
    "import numpy as np"
   ]
  },
  {
   "cell_type": "code",
   "execution_count": 2,
   "metadata": {
    "collapsed": true
   },
   "outputs": [],
   "source": [
    "from copy import deepcopy"
   ]
  },
  {
   "cell_type": "code",
   "execution_count": 203,
   "metadata": {
    "collapsed": true
   },
   "outputs": [],
   "source": [
    "def manhattan(x, y, match=1, mismatch=-1, gap=-1, open_gap=-2):\n",
    "\n",
    "    weight = np.zeros((3, len(y) + 1, len(x) + 1), dtype=np.float64)\n",
    "    \n",
    "    weight[0, 0, 1:] = np.arange(1, len(x) + 1) * gap + open_gap # hor\n",
    "    weight[2, 1:, 0] = np.arange(1, len(y) + 1) * gap + open_gap # ver\n",
    "    weight[1] = weight[0] + weight[2]\n",
    "    weight[0, 1:, 0], weight[2, 0, 1:] = -np.inf, -np.inf\n",
    "    \n",
    "    for i in range(1, len(y) + 1):\n",
    "        for j in range(1, len(x) + 1):\n",
    "            weight[0, i, j] = max(weight[0, i, j-1] + gap, weight[1, i, j-1] + open_gap + gap)\n",
    "            weight[2, i, j] = max(weight[2, i-1, j] + gap, weight[1, i-1, j] + open_gap + gap)\n",
    "            weight[1, i, j] = max(weight[1, i-1, j-1] + (match if x[j-1] == y[i-1] else mismatch),\n",
    "                                  weight[0, i, j], weight[2, i, j])\n",
    "    \n",
    "    x_res, y_res = '', ''\n",
    "    i, j = len(y), len(x)\n",
    "    while i > 0 or j > 0:\n",
    "        if i > 0 and j > 0 and weight[1, i, j] == weight[1, i-1, j-1] + (match if x[j-1] == y[i-1] else mismatch):\n",
    "            x_res += x[j-1]\n",
    "            y_res += y[i-1]\n",
    "            i -= 1\n",
    "            j -= 1\n",
    "        elif i > 0 and weight[1, i, j] == weight[2, i, j]:\n",
    "            x_res += '-'\n",
    "            y_res += y[i-1]\n",
    "            i -= 1\n",
    "        elif j > 0 and weight[1, i, j] == weight[0, i, j]:\n",
    "            x_res += x[j-1]\n",
    "            y_res += '-'\n",
    "            j -= 1\n",
    "                \n",
    "    return np.max(weight[:, -1, -1]), x_res[::-1], y_res[::-1]"
   ]
  },
  {
   "cell_type": "code",
   "execution_count": 209,
   "metadata": {},
   "outputs": [
    {
     "name": "stdout",
     "output_type": "stream",
     "text": [
      "8.0\n",
      "aaaaa-\n",
      "-----b\n"
     ]
    }
   ],
   "source": [
    "w, s1, s2 = manhattan('aaaaa', 'b', gap=2)\n",
    "print(w)\n",
    "print(s1)\n",
    "print(s2)"
   ]
  },
  {
   "cell_type": "code",
   "execution_count": null,
   "metadata": {
    "collapsed": true
   },
   "outputs": [],
   "source": []
  }
 ],
 "metadata": {
  "kernelspec": {
   "display_name": "Python 3",
   "language": "python",
   "name": "python3"
  },
  "language_info": {
   "codemirror_mode": {
    "name": "ipython",
    "version": 3
   },
   "file_extension": ".py",
   "mimetype": "text/x-python",
   "name": "python",
   "nbconvert_exporter": "python",
   "pygments_lexer": "ipython3",
   "version": "3.6.1"
  }
 },
 "nbformat": 4,
 "nbformat_minor": 2
}
