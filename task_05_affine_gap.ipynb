{
 "cells": [
  {
   "cell_type": "code",
   "execution_count": 2,
   "metadata": {
    "collapsed": true
   },
   "outputs": [],
   "source": [
    "import numpy as np"
   ]
  },
  {
   "cell_type": "code",
   "execution_count": 3,
   "metadata": {
    "collapsed": true
   },
   "outputs": [],
   "source": [
    "from copy import deepcopy"
   ]
  },
  {
   "cell_type": "code",
   "execution_count": 4,
   "metadata": {
    "collapsed": true
   },
   "outputs": [],
   "source": [
    "a = np.array([[1,2],[3,4]])"
   ]
  },
  {
   "cell_type": "code",
   "execution_count": 99,
   "metadata": {
    "collapsed": true
   },
   "outputs": [],
   "source": [
    "def manhattan(x, y, match=1, mismatch=-1, gap=-1, open_gap=-2):\n",
    "\n",
    "    weight = np.zeros((3, len(x) + 1, len(y) + 1), dtype=np.float64)\n",
    "    direction = np.zeros((3, len(x) + 1, len(y) + 1), dtype=int)\n",
    "    \n",
    "    weight[0, 1:, 0] = np.arange(1, len(x) + 1) * gap + open_gap # hor\n",
    "    weight[2, 0, 1:] = np.arange(1, len(y) + 1) * gap + open_gap # ver\n",
    "    direction[2, 0, 1:] = 2\n",
    "    weight[[0, 1], 0, 1:], weight[[1, 2], 1:, 0] = -np.inf, -np.inf\n",
    "    \n",
    "    for i in range(1, len(x) + 1):\n",
    "        for j in range(1, len(y) + 1):\n",
    "#             weight[0, i, j] = max(weight[0, i-1, j] + gap, weight[1, i-1, j] + open_gap + gap,\n",
    "#                                   weight[2, i-1, j] + open_gap + gap)\n",
    "            a = weight[0, i-1, j] + gap\n",
    "            b = weight[1, i-1, j] + open_gap + gap\n",
    "            c = weight[2, i-1, j] + open_gap + gap\n",
    "            if a > max(b, c):\n",
    "                weight[0, i, j] = a\n",
    "                direction[0, i, j] = 0\n",
    "            elif b > c:\n",
    "                weight[0, i, j] = b\n",
    "                direction[0, i, j] = 1\n",
    "            else:\n",
    "                weight[0, i, j] = c\n",
    "                direction[0, i, j] = 2\n",
    "#             weight[2, i, j] = max(weight[2, i, j-1] + gap, weight[1, i, j-1] + open_gap + gap,\n",
    "#                                   weight[0, i, j-1] + open_gap + gap)\n",
    "            a = weight[2, i, j-1] + gap\n",
    "            b = weight[1, i, j-1] + open_gap + gap\n",
    "            c = weight[0, i, j-1] + open_gap + gap\n",
    "            if a > max(b, c):\n",
    "                weight[2, i, j] = a\n",
    "                direction[2, i, j] = 2\n",
    "            elif b > c:\n",
    "                weight[2, i, j] = b\n",
    "                direction[2, i, j] = 1\n",
    "            else:\n",
    "                weight[2, i, j] = c\n",
    "                direction[2, i, j] = 0\n",
    "#             weight[1, i, j] = max(weight[1, i-1, j-1] + (match if x[i-1] == y[j-1] else mismatch),\n",
    "#                                   weight[0, i, j], weight[2, i, j])\n",
    "            a = weight[1, i-1, j-1] + (match if x[i-1] == y[j-1] else mismatch)\n",
    "            b = weight[0, i-1, j-1] + (match if x[i-1] == y[j-1] else mismatch)\n",
    "            c = weight[2, i-1, j-1] + (match if x[i-1] == y[j-1] else mismatch)\n",
    "            if a > max(b, c):\n",
    "                weight[1, i, j] = a\n",
    "                direction[1, i, j] = 1\n",
    "            elif b > c:\n",
    "                weight[1, i, j] = b\n",
    "                direction[1, i, j] = 0\n",
    "            else:\n",
    "                weight[1, i, j] = c\n",
    "                direction[1, i, j] = 2\n",
    "    \n",
    "#     print(weight)\n",
    "    \n",
    "#     print(direction)\n",
    "    \n",
    "    x_res, y_res = '', ''\n",
    "    lay_num = np.argmax(weight[:, -1, -1])\n",
    "    i, j = len(x), len(y)\n",
    "    while i > 0 or j > 0:\n",
    "        tmp_i, tmp_j = i, j\n",
    "        if lay_num == 1:\n",
    "            x_res += x[i-1]\n",
    "            y_res += y[j-1]\n",
    "            i -= 1\n",
    "            j -= 1\n",
    "        elif lay_num == 0:\n",
    "            x_res += x[i-1]\n",
    "            y_res += '-'\n",
    "            i -= 1\n",
    "        else:\n",
    "            x_res += '-'\n",
    "            y_res += y[j-1]\n",
    "            j -= 1\n",
    "        lay_num = direction[lay_num, tmp_i, tmp_j]\n",
    "                \n",
    "    return np.max(weight[:, -1, -1]), x_res[::-1], y_res[::-1]"
   ]
  },
  {
   "cell_type": "code",
   "execution_count": 100,
   "metadata": {},
   "outputs": [
    {
     "name": "stdout",
     "output_type": "stream",
     "text": [
      "0.6\n",
      "tc-\n",
      "-cc\n"
     ]
    }
   ],
   "source": [
    "w, s1, s2 = manhattan('tc', 'cc', match=1, gap=-0.1, open_gap=-0.1, mismatch=-100)\n",
    "print(w)\n",
    "print(s1)\n",
    "print(s2)"
   ]
  },
  {
   "cell_type": "code",
   "execution_count": 101,
   "metadata": {},
   "outputs": [
    {
     "name": "stdout",
     "output_type": "stream",
     "text": [
      "-4.0\n",
      "abba\n",
      "baab\n"
     ]
    }
   ],
   "source": [
    "w, s1, s2 = manhattan('abba', 'baab')\n",
    "print(w)\n",
    "print(s1)\n",
    "print(s2)"
   ]
  },
  {
   "cell_type": "code",
   "execution_count": 102,
   "metadata": {},
   "outputs": [
    {
     "name": "stdout",
     "output_type": "stream",
     "text": [
      "0.0\n",
      "a-a\n",
      "-b-\n"
     ]
    }
   ],
   "source": [
    "w, s1, s2 = manhattan('aa', 'b', open_gap=1)\n",
    "print(w)\n",
    "print(s1)\n",
    "print(s2)"
   ]
  },
  {
   "cell_type": "code",
   "execution_count": 103,
   "metadata": {},
   "outputs": [
    {
     "name": "stdout",
     "output_type": "stream",
     "text": [
      "-1.0\n",
      "aa-a-a-a\n",
      "--b-b-b-\n"
     ]
    }
   ],
   "source": [
    "w, s1, s2 = manhattan('aaaaa', 'bbb', open_gap=1)\n",
    "print(w)\n",
    "print(s1)\n",
    "print(s2)"
   ]
  },
  {
   "cell_type": "code",
   "execution_count": 104,
   "metadata": {},
   "outputs": [
    {
     "name": "stdout",
     "output_type": "stream",
     "text": [
      "36.0\n",
      "-T-C-C-C-A-G-T-T-A-T-G-T-C-A-G-G-G-G-A-C-A-C-G-A-G-C-A-T-G-C-A-G-A-G-A-C\n",
      "A-A-T-T-G-C-C-G-C-C-G-T-C-G-T-T-T-T-C-A-G-C-A-G-T-T-A-T-G-T-C-A-G-A-T-C-\n"
     ]
    }
   ],
   "source": [
    "w, s1, s2 = manhattan('tccCAGTTATGTCAGgggacacgagcatgcagagac'.upper(),\n",
    "                             'aattgccgccgtcgttttcagCAGTTATGTCAGatc'.upper(), match=1, gap=-0.5, open_gap=1)\n",
    "print(w)\n",
    "print(s1)\n",
    "print(s2)"
   ]
  },
  {
   "cell_type": "code",
   "execution_count": 105,
   "metadata": {},
   "outputs": [
    {
     "name": "stdout",
     "output_type": "stream",
     "text": [
      "19.1\n",
      "---T----CC--CAGTTATGTCAGGGGACACG--AGCATG-CAGAGA-C\n",
      "AATTGCCGCCGTC-GTT-T-TCAG----CA-GTTA---TGTC--AGATC\n"
     ]
    }
   ],
   "source": [
    "w, s1, s2 = manhattan('tccCAGTTATGTCAGgggacacgagcatgcagagac'.upper(),\n",
    "                             'aattgccgccgtcgttttcagCAGTTATGTCAGatc'.upper(), match=1, gap=-0.1, open_gap=-0.1)\n",
    "print(w)\n",
    "print(s1)\n",
    "print(s2)"
   ]
  },
  {
   "cell_type": "code",
   "execution_count": null,
   "metadata": {
    "collapsed": true
   },
   "outputs": [],
   "source": []
  }
 ],
 "metadata": {
  "kernelspec": {
   "display_name": "Python 3",
   "language": "python",
   "name": "python3"
  },
  "language_info": {
   "codemirror_mode": {
    "name": "ipython",
    "version": 3
   },
   "file_extension": ".py",
   "mimetype": "text/x-python",
   "name": "python",
   "nbconvert_exporter": "python",
   "pygments_lexer": "ipython3",
   "version": "3.6.1"
  }
 },
 "nbformat": 4,
 "nbformat_minor": 2
}
