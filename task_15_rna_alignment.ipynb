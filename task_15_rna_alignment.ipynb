{
 "cells": [
  {
   "cell_type": "code",
   "execution_count": 1,
   "metadata": {},
   "outputs": [],
   "source": [
    "import numpy as np"
   ]
  },
  {
   "cell_type": "code",
   "execution_count": 2,
   "metadata": {},
   "outputs": [],
   "source": [
    "pair = {\n",
    "    'A': 'U',\n",
    "    'U': 'A',\n",
    "    'C': 'G',\n",
    "    'G': 'C'\n",
    "}"
   ]
  },
  {
   "cell_type": "code",
   "execution_count": 26,
   "metadata": {},
   "outputs": [],
   "source": [
    "def align(seq, short_seq=5):\n",
    "    n = len(seq)\n",
    "    s = np.zeros((n, n), dtype=int)\n",
    "    p = np.zeros_like(s, dtype=int)\n",
    "    \n",
    "    for t in range(short_seq, n):\n",
    "        for i in range(n - t):\n",
    "            j = i + t\n",
    "            s[i, j] = s[i + 1, j]\n",
    "            if s[i, j - 1] > s[i, j]:\n",
    "                s[i, j] = s[i, j - 1]\n",
    "                p[i, j] = -1\n",
    "            if seq[i] == pair[seq[j]] and s[i + 1, j - 1] + 1 > s[i, j]:\n",
    "                s[i, j] = s[i + 1, j - 1] + 1\n",
    "                p[i, j] = -2\n",
    "            for k in range(i + 1, j):\n",
    "                if s[i, k] + s[k + 1, j] > s[i, j]:\n",
    "                    s[i, j] = s[i, k] + s[k + 1, j]\n",
    "                    p[i, j] = k\n",
    "                    \n",
    "#     print(s)\n",
    "#     print()\n",
    "#     print(p)\n",
    "\n",
    "    q = [(0, n-1)]\n",
    "    t = 0\n",
    "    \n",
    "    answer = []\n",
    "    \n",
    "    while t <= len(q):\n",
    "        i, j = q[t]\n",
    "        \n",
    "        if i >= n or j >= n:\n",
    "            break\n",
    "        \n",
    "#         print(i, j)\n",
    "        \n",
    "        t += 1\n",
    "        \n",
    "        if p[i, j] == 0:\n",
    "            q.append((i + 1, j))\n",
    "        elif p[i, j] == -1:\n",
    "            q.append((i, j - 1))\n",
    "        elif p[i, j] == -2:\n",
    "            q.append((i + 1, j - 1))\n",
    "            answer.append([i, j])\n",
    "        else:\n",
    "            q.append((i, p[i, j]))\n",
    "            q.append((p[i, j] + 1, j))\n",
    "            \n",
    "    answer = np.array(answer)\n",
    "    ind = np.argsort(answer[:, 0])\n",
    "    \n",
    "    return answer[ind] + 1"
   ]
  },
  {
   "cell_type": "code",
   "execution_count": 27,
   "metadata": {},
   "outputs": [
    {
     "data": {
      "text/plain": [
       "array([[1, 3]])"
      ]
     },
     "execution_count": 27,
     "metadata": {},
     "output_type": "execute_result"
    }
   ],
   "source": [
    "align('ACU', 2)"
   ]
  },
  {
   "cell_type": "code",
   "execution_count": 28,
   "metadata": {},
   "outputs": [
    {
     "data": {
      "text/plain": [
       "array([[ 2,  7],\n",
       "       [ 3,  6],\n",
       "       [ 8, 15],\n",
       "       [ 9, 14],\n",
       "       [10, 13]])"
      ]
     },
     "execution_count": 28,
     "metadata": {},
     "output_type": "execute_result"
    }
   ],
   "source": [
    "align('ACCAAGGGUUGGAAC', 2)"
   ]
  },
  {
   "cell_type": "code",
   "execution_count": 29,
   "metadata": {},
   "outputs": [
    {
     "data": {
      "text/plain": [
       "array([[ 3, 21],\n",
       "       [ 4, 20],\n",
       "       [ 5, 19],\n",
       "       [ 6, 18],\n",
       "       [ 7, 17],\n",
       "       [ 9, 16],\n",
       "       [10, 15]])"
      ]
     },
     "execution_count": 29,
     "metadata": {},
     "output_type": "execute_result"
    }
   ],
   "source": [
    "align('AAACAUGAGGAUUACCCAUGU', 5)"
   ]
  },
  {
   "cell_type": "code",
   "execution_count": null,
   "metadata": {},
   "outputs": [],
   "source": []
  }
 ],
 "metadata": {
  "kernelspec": {
   "display_name": "Python 3",
   "language": "python",
   "name": "python3"
  },
  "language_info": {
   "codemirror_mode": {
    "name": "ipython",
    "version": 3
   },
   "file_extension": ".py",
   "mimetype": "text/x-python",
   "name": "python",
   "nbconvert_exporter": "python",
   "pygments_lexer": "ipython3",
   "version": "3.6.3"
  }
 },
 "nbformat": 4,
 "nbformat_minor": 2
}
